{
    "cells": [
        {
            "cell_type": "code",
            "execution_count": 2,
            "source": [
                "import os\n",
                "import cv2\n",
                "import numpy as np\n",
                "import matplotlib.pyplot as plt\n",
                "from glob import glob\n",
                "import csv"
            ],
            "outputs": [],
            "metadata": {}
        },
        {
            "cell_type": "code",
            "execution_count": 3,
            "source": [
                "def read_csv(file_name):\n",
                "    viz_map = np.zeros((584,565)).astype(np.uint8)\n",
                "    csv_reader = csv.reader(open(file_name, 'r'))\n",
                "    ele_type = 0\n",
                "    coord_list = []\n",
                "    edge_list = []\n",
                "    for csv_row in csv_reader:\n",
                "        if csv_row[0].find('node') > -1:\n",
                "            ele_type = 'node'\n",
                "            continue\n",
                "        elif csv_row[0].find('edge') > -1:\n",
                "            ele_type = 'edge'\n",
                "            continue\n",
                "\n",
                "        if ele_type == \"node\":\n",
                "            coord = csv_row\n",
                "            coord_list.append((int(coord[0]), int(coord[1])))\n",
                "            viz_map[int(coord[0]), int(coord[1])] = 255\n",
                "        # elif ele_type == 'edge':\n",
                "        #     edge = csv_row\n",
                "        #     edge_list.append(((coord_list[int(edge[0])][0], coord_list[int(edge[0])][1]), (coord_list[int(edge[1])][0], coord_list[int(edge[1])][1])))\n",
                "\n",
                "    return viz_map"
            ],
            "outputs": [],
            "metadata": {}
        },
        {
            "cell_type": "code",
            "execution_count": 23,
            "source": [
                "root_path = \"/mnt/hdd_6tb_sdd/yhji/research_hdd/Vessel_generation/data/drive_graphdata/\"\n",
                "#csv_data_path = \"220424_vessel_node_700/*.csv\"\n",
                "csv_data_path = \"220422_csv_sampling4/*.csv\"\n",
                "\n",
                "output_dir = \"/mnt/hdd_6tb_sdd/yhji/research_hdd/Vessel_generation/supplement/score_sde_pytorch/utils_yhji/processed_data_resize_threshold/\"\n",
                "\n",
                "data_list = glob(root_path + csv_data_path)"
            ],
            "outputs": [],
            "metadata": {}
        },
        {
            "cell_type": "code",
            "execution_count": 17,
            "source": [
                "## padding\n",
                "\n",
                "for i, data_path in enumerate(data_list):\n",
                "    viz_map_pad = np.zeros((584,584)).astype(np.uint8)\n",
                "    filename = data_path.split(\"/\")[-1][:-4]\n",
                "\n",
                "    viz_map = read_csv(data_path)\n",
                "    viz_map_pad[:584, :565] = viz_map.copy()\n",
                "    \n",
                "    cv2.imwrite(output_dir+filename+\"_square.png\", viz_map_pad)"
            ],
            "outputs": [],
            "metadata": {}
        },
        {
            "cell_type": "code",
            "execution_count": 24,
            "source": [
                "## resize\n",
                "\n",
                "for i, data_path in enumerate(data_list):\n",
                "    viz_map_pad = np.zeros((584,584)).astype(np.uint8)\n",
                "    filename = data_path.split(\"/\")[-1][:-4]\n",
                "\n",
                "    viz_map = read_csv(data_path)\n",
                "    viz_map_pad[:584, :565] = viz_map.copy()\n",
                "    viz_map_pad_resize = cv2.resize(viz_map_pad, (512, 512), interpolation=cv2.INTER_CUBIC)\n",
                "    _, viz_map_pad_resize = cv2.threshold(viz_map_pad_resize, 0, 255, cv2.THRESH_BINARY+cv2.THRESH_OTSU)\n",
                "\n",
                "    cv2.imwrite(output_dir+filename+\"_resize_threshold.png\", viz_map_pad_resize)"
            ],
            "outputs": [],
            "metadata": {}
        },
        {
            "cell_type": "code",
            "execution_count": 21,
            "source": [
                "np.unique(viz_map_pad_resize)"
            ],
            "outputs": [
                {
                    "output_type": "execute_result",
                    "data": {
                        "text/plain": [
                            "array([  0,   1,   2,   3,   4,   5,   6,   7,   8,   9,  10,  11,  12,\n",
                            "        13,  14,  15,  16,  17,  18,  19,  20,  21,  22,  23,  24,  25,\n",
                            "        26,  27,  28,  29,  30,  31,  32,  33,  34,  35,  36,  37,  38,\n",
                            "        39,  40,  41,  42,  43,  44,  45,  46,  47,  48,  49,  50,  51,\n",
                            "        52,  53,  54,  55,  56,  57,  58,  59,  60,  61,  62,  63,  64,\n",
                            "        65,  66,  67,  68,  69,  70,  71,  72,  73,  74,  75,  76,  77,\n",
                            "        78,  79,  80,  81,  82,  83,  84,  85,  86,  87,  88,  89,  90,\n",
                            "        91,  92,  93,  94,  95,  96,  97,  98,  99, 100, 101, 102, 103,\n",
                            "       104, 105, 106, 107, 108, 109, 110, 111, 112, 113, 114, 115, 116,\n",
                            "       117, 118, 119, 120, 121, 122, 123, 124, 125, 126, 127, 128, 129,\n",
                            "       130, 131, 132, 133, 134, 135, 136, 137, 138, 139, 140, 141, 142,\n",
                            "       143, 144, 145, 146, 147, 148, 149, 150, 151, 152, 153, 154, 155,\n",
                            "       156, 157, 158, 159, 161, 162, 163, 164, 165, 166, 167, 168, 169,\n",
                            "       170, 171, 172, 173, 174, 175, 176, 177, 178, 179, 180, 181, 182,\n",
                            "       183, 184, 185, 186, 187, 188, 190, 191, 192, 193, 194, 195, 196,\n",
                            "       197, 198, 200, 201, 202, 204, 205, 206, 208, 209, 211, 212, 213,\n",
                            "       215, 216, 217, 219, 220, 221, 223, 224, 227, 228, 229, 231, 232,\n",
                            "       233, 235, 239, 241, 243, 247, 249], dtype=uint8)"
                        ]
                    },
                    "metadata": {},
                    "execution_count": 21
                }
            ],
            "metadata": {}
        },
        {
            "cell_type": "code",
            "execution_count": null,
            "source": [],
            "outputs": [],
            "metadata": {}
        }
    ],
    "metadata": {
        "orig_nbformat": 4,
        "language_info": {
            "name": "python",
            "version": "3.8.13",
            "mimetype": "text/x-python",
            "codemirror_mode": {
                "name": "ipython",
                "version": 3
            },
            "pygments_lexer": "ipython3",
            "nbconvert_exporter": "python",
            "file_extension": ".py"
        },
        "kernelspec": {
            "name": "python3",
            "display_name": "Python 3.8.13 64-bit ('score_sde': conda)"
        },
        "interpreter": {
            "hash": "46145f6b98a3a28579b70f994713cb3c4c7219fce65eda4600df96e86d5a9971"
        }
    },
    "nbformat": 4,
    "nbformat_minor": 2
}